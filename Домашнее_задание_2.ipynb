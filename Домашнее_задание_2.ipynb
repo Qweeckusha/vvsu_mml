{
 "nbformat": 4,
 "nbformat_minor": 0,
 "metadata": {
  "colab": {
   "provenance": [],
   "authorship_tag": "ABX9TyNDG5JXXGzgo0ObWLlTIwJ4",
   "include_colab_link": true
  },
  "kernelspec": {
   "name": "python3",
   "display_name": "Python 3 (ipykernel)",
   "language": "python"
  },
  "language_info": {
   "name": "python"
  }
 },
 "cells": [
  {
   "cell_type": "markdown",
   "metadata": {
    "id": "view-in-github",
    "colab_type": "text"
   },
   "source": [
    "<a href=\"https://colab.research.google.com/github/Letch49/ML-vvsu-2025-2026/blob/master/%D0%94%D0%BE%D0%BC%D0%B0%D1%88%D0%BD%D0%B5%D0%B5_%D0%B7%D0%B0%D0%B4%D0%B0%D0%BD%D0%B8%D0%B5_2.ipynb\" target=\"_parent\"><img src=\"https://colab.research.google.com/assets/colab-badge.svg\" alt=\"Open In Colab\"/></a>"
   ]
  },
  {
   "cell_type": "code",
   "source": [
    "from pyexpat import features\n",
    "!pip install pandas seaborn scikit-learn"
   ],
   "metadata": {
    "id": "o_fx2kEEzlJd"
   },
   "execution_count": null,
   "outputs": []
  },
  {
   "cell_type": "markdown",
   "source": [
    "# Домашнее задание про практике 2"
   ],
   "metadata": {
    "id": "nqqcaamYu3rQ"
   }
  },
  {
   "cell_type": "markdown",
   "source": [
    "- Провести разведочный анализ EDA (описать полученный результат). Тут важно, влияет ли X[i] на Y (примеры в практике 2)\n",
    "- Описать полученный результат относительно анализа целевой перменной и зависимой (см. практика 2)\n",
    "- Подобороться с пропусками в данных (при наличии в датасете). Объяснить способ выборка борьбы с пропуском\n",
    "- Обучить модель линейной регресии на всей выборке X, y. Вывести метрики\n",
    "- Сделать train_test_split и обучить на обучающей выборке. Предсказать результат на обучающей и тестовой выборках. Вывести метрики, объяснить полученный результат"
   ],
   "metadata": {
    "id": "PmV7k0V0viI3"
   }
  },
  {
   "cell_type": "code",
   "source": "import pandas as pd",
   "metadata": {
    "id": "-ByF7CbPu8tB",
    "ExecuteTime": {
     "end_time": "2025-10-03T04:57:13.984650Z",
     "start_time": "2025-10-03T04:57:13.980997Z"
    }
   },
   "outputs": [],
   "execution_count": 3
  },
  {
   "cell_type": "code",
   "source": "df = pd.read_csv('student_performance.csv')",
   "metadata": {
    "id": "TE1kiTVbu7gI",
    "ExecuteTime": {
     "end_time": "2025-10-03T04:57:15.661569Z",
     "start_time": "2025-10-03T04:57:15.151586Z"
    }
   },
   "outputs": [],
   "execution_count": 4
  },
  {
   "cell_type": "code",
   "source": [
    "df.info()"
   ],
   "metadata": {
    "id": "cHnS6uyPu_ss",
    "ExecuteTime": {
     "end_time": "2025-10-03T04:58:45.099354Z",
     "start_time": "2025-10-03T04:58:45.079134Z"
    }
   },
   "outputs": [
    {
     "name": "stdout",
     "output_type": "stream",
     "text": [
      "<class 'pandas.core.frame.DataFrame'>\n",
      "RangeIndex: 1000000 entries, 0 to 999999\n",
      "Data columns (total 6 columns):\n",
      " #   Column                   Non-Null Count    Dtype   \n",
      "---  ------                   --------------    -----   \n",
      " 0   student_id               1000000 non-null  int64   \n",
      " 1   weekly_self_study_hours  1000000 non-null  float64 \n",
      " 2   attendance_percentage    1000000 non-null  float64 \n",
      " 3   class_participation      1000000 non-null  float64 \n",
      " 4   total_score              1000000 non-null  float64 \n",
      " 5   grade                    1000000 non-null  category\n",
      "dtypes: category(1), float64(4), int64(1)\n",
      "memory usage: 39.1 MB\n"
     ]
    }
   ],
   "execution_count": 11
  },
  {
   "cell_type": "code",
   "source": [
    "# преобразовать категориальные признаки в category\n",
    "df['grade'] = df.grade.astype('category')"
   ],
   "metadata": {
    "id": "kYBmPfxlvBUs",
    "ExecuteTime": {
     "end_time": "2025-10-03T04:58:39.964685Z",
     "start_time": "2025-10-03T04:58:39.914687Z"
    }
   },
   "outputs": [],
   "execution_count": 10
  },
  {
   "cell_type": "code",
   "source": [
    "# выбрать целевую переменную и разделить на X, y\n",
    "# целевая переменная - числовой непрерывный признак\n",
    "\n",
    "y = df.weekly_self_study_hours\n",
    "X = df.drop(['weekly_self_study_hours', 'student_id'], axis=1)\n",
    "X"
   ],
   "metadata": {
    "id": "mNCCwK52vKpO",
    "ExecuteTime": {
     "end_time": "2025-10-03T05:54:59.646231Z",
     "start_time": "2025-10-03T05:54:59.627041Z"
    }
   },
   "outputs": [
    {
     "data": {
      "text/plain": [
       "        attendance_percentage  class_participation  total_score grade\n",
       "0                        95.6                  3.8         97.9     A\n",
       "1                        80.0                  2.5         83.9     B\n",
       "2                        86.3                  5.3        100.0     A\n",
       "3                        70.2                  7.0        100.0     A\n",
       "4                        81.9                  6.9         92.0     A\n",
       "...                       ...                  ...          ...   ...\n",
       "999995                   95.5                  4.8        100.0     A\n",
       "999996                   82.7                  6.7         88.3     A\n",
       "999997                   85.1                  5.8         87.9     A\n",
       "999998                   90.0                  5.3        100.0     A\n",
       "999999                   84.6                  4.1        100.0     A\n",
       "\n",
       "[1000000 rows x 4 columns]"
      ],
      "text/html": [
       "<div>\n",
       "<style scoped>\n",
       "    .dataframe tbody tr th:only-of-type {\n",
       "        vertical-align: middle;\n",
       "    }\n",
       "\n",
       "    .dataframe tbody tr th {\n",
       "        vertical-align: top;\n",
       "    }\n",
       "\n",
       "    .dataframe thead th {\n",
       "        text-align: right;\n",
       "    }\n",
       "</style>\n",
       "<table border=\"1\" class=\"dataframe\">\n",
       "  <thead>\n",
       "    <tr style=\"text-align: right;\">\n",
       "      <th></th>\n",
       "      <th>attendance_percentage</th>\n",
       "      <th>class_participation</th>\n",
       "      <th>total_score</th>\n",
       "      <th>grade</th>\n",
       "    </tr>\n",
       "  </thead>\n",
       "  <tbody>\n",
       "    <tr>\n",
       "      <th>0</th>\n",
       "      <td>95.6</td>\n",
       "      <td>3.8</td>\n",
       "      <td>97.9</td>\n",
       "      <td>A</td>\n",
       "    </tr>\n",
       "    <tr>\n",
       "      <th>1</th>\n",
       "      <td>80.0</td>\n",
       "      <td>2.5</td>\n",
       "      <td>83.9</td>\n",
       "      <td>B</td>\n",
       "    </tr>\n",
       "    <tr>\n",
       "      <th>2</th>\n",
       "      <td>86.3</td>\n",
       "      <td>5.3</td>\n",
       "      <td>100.0</td>\n",
       "      <td>A</td>\n",
       "    </tr>\n",
       "    <tr>\n",
       "      <th>3</th>\n",
       "      <td>70.2</td>\n",
       "      <td>7.0</td>\n",
       "      <td>100.0</td>\n",
       "      <td>A</td>\n",
       "    </tr>\n",
       "    <tr>\n",
       "      <th>4</th>\n",
       "      <td>81.9</td>\n",
       "      <td>6.9</td>\n",
       "      <td>92.0</td>\n",
       "      <td>A</td>\n",
       "    </tr>\n",
       "    <tr>\n",
       "      <th>...</th>\n",
       "      <td>...</td>\n",
       "      <td>...</td>\n",
       "      <td>...</td>\n",
       "      <td>...</td>\n",
       "    </tr>\n",
       "    <tr>\n",
       "      <th>999995</th>\n",
       "      <td>95.5</td>\n",
       "      <td>4.8</td>\n",
       "      <td>100.0</td>\n",
       "      <td>A</td>\n",
       "    </tr>\n",
       "    <tr>\n",
       "      <th>999996</th>\n",
       "      <td>82.7</td>\n",
       "      <td>6.7</td>\n",
       "      <td>88.3</td>\n",
       "      <td>A</td>\n",
       "    </tr>\n",
       "    <tr>\n",
       "      <th>999997</th>\n",
       "      <td>85.1</td>\n",
       "      <td>5.8</td>\n",
       "      <td>87.9</td>\n",
       "      <td>A</td>\n",
       "    </tr>\n",
       "    <tr>\n",
       "      <th>999998</th>\n",
       "      <td>90.0</td>\n",
       "      <td>5.3</td>\n",
       "      <td>100.0</td>\n",
       "      <td>A</td>\n",
       "    </tr>\n",
       "    <tr>\n",
       "      <th>999999</th>\n",
       "      <td>84.6</td>\n",
       "      <td>4.1</td>\n",
       "      <td>100.0</td>\n",
       "      <td>A</td>\n",
       "    </tr>\n",
       "  </tbody>\n",
       "</table>\n",
       "<p>1000000 rows × 4 columns</p>\n",
       "</div>"
      ]
     },
     "execution_count": 38,
     "metadata": {},
     "output_type": "execute_result"
    }
   ],
   "execution_count": 38
  },
  {
   "cell_type": "markdown",
   "source": [
    "## EDA (разведочный анализ относительно целевой переменной)\n",
    "\n",
    "в этом же блоке побороться с проусками, важно сделать именно после разведочного анализа\n",
    "- Y и категориальные\n",
    "- Y и числовые\n",
    "- Описать все полученные результаты в своем блоке\n",
    "\n",
    "- Отобрать признаки для дальнейшего анализа, записать в ```best_features```"
   ],
   "metadata": {
    "id": "eAjGz9j5wUlB"
   }
  },
  {
   "cell_type": "code",
   "source": "X.head(n=3)",
   "metadata": {
    "id": "ADEn3gA6wj0L",
    "ExecuteTime": {
     "end_time": "2025-10-03T05:55:11.870718Z",
     "start_time": "2025-10-03T05:55:11.862622Z"
    }
   },
   "outputs": [
    {
     "data": {
      "text/plain": [
       "   attendance_percentage  class_participation  total_score grade\n",
       "0                   95.6                  3.8         97.9     A\n",
       "1                   80.0                  2.5         83.9     B\n",
       "2                   86.3                  5.3        100.0     A"
      ],
      "text/html": [
       "<div>\n",
       "<style scoped>\n",
       "    .dataframe tbody tr th:only-of-type {\n",
       "        vertical-align: middle;\n",
       "    }\n",
       "\n",
       "    .dataframe tbody tr th {\n",
       "        vertical-align: top;\n",
       "    }\n",
       "\n",
       "    .dataframe thead th {\n",
       "        text-align: right;\n",
       "    }\n",
       "</style>\n",
       "<table border=\"1\" class=\"dataframe\">\n",
       "  <thead>\n",
       "    <tr style=\"text-align: right;\">\n",
       "      <th></th>\n",
       "      <th>attendance_percentage</th>\n",
       "      <th>class_participation</th>\n",
       "      <th>total_score</th>\n",
       "      <th>grade</th>\n",
       "    </tr>\n",
       "  </thead>\n",
       "  <tbody>\n",
       "    <tr>\n",
       "      <th>0</th>\n",
       "      <td>95.6</td>\n",
       "      <td>3.8</td>\n",
       "      <td>97.9</td>\n",
       "      <td>A</td>\n",
       "    </tr>\n",
       "    <tr>\n",
       "      <th>1</th>\n",
       "      <td>80.0</td>\n",
       "      <td>2.5</td>\n",
       "      <td>83.9</td>\n",
       "      <td>B</td>\n",
       "    </tr>\n",
       "    <tr>\n",
       "      <th>2</th>\n",
       "      <td>86.3</td>\n",
       "      <td>5.3</td>\n",
       "      <td>100.0</td>\n",
       "      <td>A</td>\n",
       "    </tr>\n",
       "  </tbody>\n",
       "</table>\n",
       "</div>"
      ]
     },
     "execution_count": 39,
     "metadata": {},
     "output_type": "execute_result"
    }
   ],
   "execution_count": 39
  },
  {
   "cell_type": "code",
   "source": "y.head(n=3)",
   "metadata": {
    "id": "l_fD-dVtwi0D",
    "ExecuteTime": {
     "end_time": "2025-10-03T05:55:18.866304Z",
     "start_time": "2025-10-03T05:55:18.861356Z"
    }
   },
   "outputs": [
    {
     "data": {
      "text/plain": [
       "0    18.5\n",
       "1    14.0\n",
       "2    19.5\n",
       "Name: weekly_self_study_hours, dtype: float64"
      ]
     },
     "execution_count": 40,
     "metadata": {},
     "output_type": "execute_result"
    }
   ],
   "execution_count": 40
  },
  {
   "cell_type": "code",
   "source": [
    "categorial_features = ['grade'] # перечислить названия колонок с категориальными фичами\n",
    "numeric_features = ['attendance_percentage', 'class_participation', 'total_score'] # перечислить названия колонок с категориальными фичами??порядковыми\n",
    "best_features = categorial_features + numeric_features"
   ],
   "metadata": {
    "id": "YJot4MMAz6oc",
    "ExecuteTime": {
     "end_time": "2025-10-03T05:55:21.466009Z",
     "start_time": "2025-10-03T05:55:21.462640Z"
    }
   },
   "outputs": [],
   "execution_count": 41
  },
  {
   "cell_type": "markdown",
   "source": [
    "## Моделирование"
   ],
   "metadata": {
    "id": "Vz4kuQwtwYxX"
   }
  },
  {
   "cell_type": "markdown",
   "source": [
    "**Общая задача:**\n",
    "Сравнить несколько вариантов линейной регрессии на датасете (с предобработкой признаков: стандартизация числовых, OneHot/Label для категориальных).\n",
    "\n",
    "**предобработка**\n",
    "- Категориальные признаки преобразовать с помощью OneHotEncoder (если признак является типом **bool** по логике можно интерпретировать как (true, false) То можно LabelEncoder)\n",
    "- Числовые признаки записать в `X_scaled` и провести стандартизацию с помощью `StandardScaler`. Желательно без категориальных признаков\n",
    "\n",
    "\n",
    "---\n",
    "**Метрики**: (MAE, MAPE, R², MSE, RMSE)\n",
    "\n",
    "---\n",
    "\n",
    "**Модель 1.**\n",
    "\n",
    "- Использовать **все признаки (кроме y)**.\n",
    "- Обучить на **всей выборке** (без разделения).\n",
    "- Сделать предсказания на этой же выборке.\n",
    "- Вывести метрики и интерпретировать.\n",
    "- Построить график коэффициентов (model.coef\\_ vs X\\_scaled.columns) и интерпретировать.\n",
    "\n",
    "---\n",
    "\n",
    "**Модель 2.**\n",
    "\n",
    "- Использовать **все признаки**.\n",
    "- Сделать `train_test_split`.\n",
    "- Обучить на `X_train`, предсказать на `X_train` и `X_test`.\n",
    "- Вывести метрики для обучающей и тестовой выборки, интерпретировать.\n",
    "- Визуализировать коэффициенты и интерпретировать.\n",
    "\n",
    "---\n",
    "\n",
    "**Модель 3.**\n",
    "\n",
    "- Использовать только **best\\_features** (отобранные признаки).\n",
    "- Обучить на **всей выборке**.\n",
    "- Предсказать на всей выборке.\n",
    "- Вывести метрики качества и интерпретировать.\n",
    "- Визуализировать коэффициенты и интерпретировать.\n",
    "\n",
    "---\n",
    "\n",
    "**Модель 4.**\n",
    "\n",
    "- Использовать **best\\_features**.\n",
    "- Сделать `train_test_split`.\n",
    "- Обучить на `X_train`, предсказать на `X_train` и `X_test`.\n",
    "- Вывести метрики качества для обучающей и тестовой выборки, интерпретировать.\n",
    "- Визуализировать коэффициенты и интерпретировать.\n",
    "\n",
    "---\n",
    "\n",
    "P.S.\n",
    "- Важно не забывать о стандартизации и разделении категориальных признаков на отдельные олонки\n",
    "- Все примеры есть в практике 2\n",
    "\n",
    "\n",
    "P.P.S\n",
    "Старайтесь делать собственные предположения, ChatGPT задачу решит, но вы не добьетесь понимания полученных результатов\n",
    "\n",
    "---\n",
    "В результате должно получиться 4 модели\n",
    "\n",
    "- первые две на всех колонках (фичах)\n",
    "- последующие на отобранных фичах (колонках)"
   ],
   "metadata": {
    "id": "0Bw6wuHtm4F9"
   }
  },
  {
   "cell_type": "markdown",
   "source": [
    "## Ниже представлены подсказки, то что нужно использовать и как должно называться"
   ],
   "metadata": {
    "id": "xII6_LJFoJi_"
   }
  },
  {
   "cell_type": "markdown",
   "source": [
    "### Преобразование категориальных"
   ],
   "metadata": {
    "id": "JuY4g6YozpKy"
   }
  },
  {
   "cell_type": "code",
   "source": [
    "# https://habr.com/ru/articles/456294/ - виды Encoder для категориальных признаков\n",
    "# LabelEncoder, OneHotEncoder\n",
    "# Label для bool (0,1), (yes, no), (true, false)\n",
    "# OneHot - для меток\n",
    "\n",
    "from sklearn.preprocessing import OneHotEncoder # https://scikit-learn.org/stable/modules/generated/sklearn.preprocessing.OneHotEncoder.html\n",
    "\n",
    "encoder = OneHotEncoder(sparse_output=False)  # sparse_output=False → выдаёт DataFrame, а не numpy матрицу\n",
    "encoded = encoder.fit_transform(X[[\"grade\"]])  # .fit_transfom(X) - обучить и трансформировать, т.е. вернуть результат"
   ],
   "metadata": {
    "id": "K_bpGlkhzSfa",
    "ExecuteTime": {
     "end_time": "2025-10-03T05:55:26.378788Z",
     "start_time": "2025-10-03T05:55:26.140882Z"
    }
   },
   "outputs": [],
   "execution_count": 42
  },
  {
   "cell_type": "code",
   "source": [
    "encoded_columns = encoder.get_feature_names_out(['grade'])\n",
    "encoded_columns"
   ],
   "metadata": {
    "id": "2DIWTLnvzniK",
    "ExecuteTime": {
     "end_time": "2025-10-03T05:55:29.269371Z",
     "start_time": "2025-10-03T05:55:29.263971Z"
    }
   },
   "outputs": [
    {
     "data": {
      "text/plain": [
       "array(['grade_A', 'grade_B', 'grade_C', 'grade_D', 'grade_F'],\n",
       "      dtype=object)"
      ]
     },
     "execution_count": 45,
     "metadata": {},
     "output_type": "execute_result"
    }
   ],
   "execution_count": 45
  },
  {
   "metadata": {
    "ExecuteTime": {
     "end_time": "2025-10-03T05:55:30.515643Z",
     "start_time": "2025-10-03T05:55:30.508627Z"
    }
   },
   "cell_type": "code",
   "source": "X_encoded = pd.DataFrame(encoded, columns=encoded_columns, index=X.index)",
   "outputs": [],
   "execution_count": 46
  },
  {
   "cell_type": "code",
   "source": [
    "X = X.drop('grade', axis=1) if 'grade' in X.columns else X # убираем базовую колонку grade\n",
    "X = pd.concat([X, X_encoded], axis=1)"
   ],
   "metadata": {
    "id": "YxApu4kLzaDA",
    "ExecuteTime": {
     "end_time": "2025-10-03T05:55:32.139925Z",
     "start_time": "2025-10-03T05:55:32.093663Z"
    }
   },
   "outputs": [],
   "execution_count": 47
  },
  {
   "cell_type": "code",
   "source": "X",
   "metadata": {
    "id": "0nRcfBBtzn7Q",
    "ExecuteTime": {
     "end_time": "2025-10-03T05:55:33.578924Z",
     "start_time": "2025-10-03T05:55:33.563606Z"
    }
   },
   "outputs": [
    {
     "data": {
      "text/plain": [
       "        attendance_percentage  class_participation  total_score  grade_A  \\\n",
       "0                        95.6                  3.8         97.9      1.0   \n",
       "1                        80.0                  2.5         83.9      0.0   \n",
       "2                        86.3                  5.3        100.0      1.0   \n",
       "3                        70.2                  7.0        100.0      1.0   \n",
       "4                        81.9                  6.9         92.0      1.0   \n",
       "...                       ...                  ...          ...      ...   \n",
       "999995                   95.5                  4.8        100.0      1.0   \n",
       "999996                   82.7                  6.7         88.3      1.0   \n",
       "999997                   85.1                  5.8         87.9      1.0   \n",
       "999998                   90.0                  5.3        100.0      1.0   \n",
       "999999                   84.6                  4.1        100.0      1.0   \n",
       "\n",
       "        grade_B  grade_C  grade_D  grade_F  \n",
       "0           0.0      0.0      0.0      0.0  \n",
       "1           1.0      0.0      0.0      0.0  \n",
       "2           0.0      0.0      0.0      0.0  \n",
       "3           0.0      0.0      0.0      0.0  \n",
       "4           0.0      0.0      0.0      0.0  \n",
       "...         ...      ...      ...      ...  \n",
       "999995      0.0      0.0      0.0      0.0  \n",
       "999996      0.0      0.0      0.0      0.0  \n",
       "999997      0.0      0.0      0.0      0.0  \n",
       "999998      0.0      0.0      0.0      0.0  \n",
       "999999      0.0      0.0      0.0      0.0  \n",
       "\n",
       "[1000000 rows x 8 columns]"
      ],
      "text/html": [
       "<div>\n",
       "<style scoped>\n",
       "    .dataframe tbody tr th:only-of-type {\n",
       "        vertical-align: middle;\n",
       "    }\n",
       "\n",
       "    .dataframe tbody tr th {\n",
       "        vertical-align: top;\n",
       "    }\n",
       "\n",
       "    .dataframe thead th {\n",
       "        text-align: right;\n",
       "    }\n",
       "</style>\n",
       "<table border=\"1\" class=\"dataframe\">\n",
       "  <thead>\n",
       "    <tr style=\"text-align: right;\">\n",
       "      <th></th>\n",
       "      <th>attendance_percentage</th>\n",
       "      <th>class_participation</th>\n",
       "      <th>total_score</th>\n",
       "      <th>grade_A</th>\n",
       "      <th>grade_B</th>\n",
       "      <th>grade_C</th>\n",
       "      <th>grade_D</th>\n",
       "      <th>grade_F</th>\n",
       "    </tr>\n",
       "  </thead>\n",
       "  <tbody>\n",
       "    <tr>\n",
       "      <th>0</th>\n",
       "      <td>95.6</td>\n",
       "      <td>3.8</td>\n",
       "      <td>97.9</td>\n",
       "      <td>1.0</td>\n",
       "      <td>0.0</td>\n",
       "      <td>0.0</td>\n",
       "      <td>0.0</td>\n",
       "      <td>0.0</td>\n",
       "    </tr>\n",
       "    <tr>\n",
       "      <th>1</th>\n",
       "      <td>80.0</td>\n",
       "      <td>2.5</td>\n",
       "      <td>83.9</td>\n",
       "      <td>0.0</td>\n",
       "      <td>1.0</td>\n",
       "      <td>0.0</td>\n",
       "      <td>0.0</td>\n",
       "      <td>0.0</td>\n",
       "    </tr>\n",
       "    <tr>\n",
       "      <th>2</th>\n",
       "      <td>86.3</td>\n",
       "      <td>5.3</td>\n",
       "      <td>100.0</td>\n",
       "      <td>1.0</td>\n",
       "      <td>0.0</td>\n",
       "      <td>0.0</td>\n",
       "      <td>0.0</td>\n",
       "      <td>0.0</td>\n",
       "    </tr>\n",
       "    <tr>\n",
       "      <th>3</th>\n",
       "      <td>70.2</td>\n",
       "      <td>7.0</td>\n",
       "      <td>100.0</td>\n",
       "      <td>1.0</td>\n",
       "      <td>0.0</td>\n",
       "      <td>0.0</td>\n",
       "      <td>0.0</td>\n",
       "      <td>0.0</td>\n",
       "    </tr>\n",
       "    <tr>\n",
       "      <th>4</th>\n",
       "      <td>81.9</td>\n",
       "      <td>6.9</td>\n",
       "      <td>92.0</td>\n",
       "      <td>1.0</td>\n",
       "      <td>0.0</td>\n",
       "      <td>0.0</td>\n",
       "      <td>0.0</td>\n",
       "      <td>0.0</td>\n",
       "    </tr>\n",
       "    <tr>\n",
       "      <th>...</th>\n",
       "      <td>...</td>\n",
       "      <td>...</td>\n",
       "      <td>...</td>\n",
       "      <td>...</td>\n",
       "      <td>...</td>\n",
       "      <td>...</td>\n",
       "      <td>...</td>\n",
       "      <td>...</td>\n",
       "    </tr>\n",
       "    <tr>\n",
       "      <th>999995</th>\n",
       "      <td>95.5</td>\n",
       "      <td>4.8</td>\n",
       "      <td>100.0</td>\n",
       "      <td>1.0</td>\n",
       "      <td>0.0</td>\n",
       "      <td>0.0</td>\n",
       "      <td>0.0</td>\n",
       "      <td>0.0</td>\n",
       "    </tr>\n",
       "    <tr>\n",
       "      <th>999996</th>\n",
       "      <td>82.7</td>\n",
       "      <td>6.7</td>\n",
       "      <td>88.3</td>\n",
       "      <td>1.0</td>\n",
       "      <td>0.0</td>\n",
       "      <td>0.0</td>\n",
       "      <td>0.0</td>\n",
       "      <td>0.0</td>\n",
       "    </tr>\n",
       "    <tr>\n",
       "      <th>999997</th>\n",
       "      <td>85.1</td>\n",
       "      <td>5.8</td>\n",
       "      <td>87.9</td>\n",
       "      <td>1.0</td>\n",
       "      <td>0.0</td>\n",
       "      <td>0.0</td>\n",
       "      <td>0.0</td>\n",
       "      <td>0.0</td>\n",
       "    </tr>\n",
       "    <tr>\n",
       "      <th>999998</th>\n",
       "      <td>90.0</td>\n",
       "      <td>5.3</td>\n",
       "      <td>100.0</td>\n",
       "      <td>1.0</td>\n",
       "      <td>0.0</td>\n",
       "      <td>0.0</td>\n",
       "      <td>0.0</td>\n",
       "      <td>0.0</td>\n",
       "    </tr>\n",
       "    <tr>\n",
       "      <th>999999</th>\n",
       "      <td>84.6</td>\n",
       "      <td>4.1</td>\n",
       "      <td>100.0</td>\n",
       "      <td>1.0</td>\n",
       "      <td>0.0</td>\n",
       "      <td>0.0</td>\n",
       "      <td>0.0</td>\n",
       "      <td>0.0</td>\n",
       "    </tr>\n",
       "  </tbody>\n",
       "</table>\n",
       "<p>1000000 rows × 8 columns</p>\n",
       "</div>"
      ]
     },
     "execution_count": 48,
     "metadata": {},
     "output_type": "execute_result"
    }
   ],
   "execution_count": 48
  },
  {
   "cell_type": "markdown",
   "source": [
    "### Преобразование числовых"
   ],
   "metadata": {
    "id": "2g8xnVRWztIe"
   }
  },
  {
   "cell_type": "code",
   "source": [
    "from sklearn.preprocessing import StandardScaler\n",
    "\n",
    "scaler = StandardScaler()\n",
    "X_scaled = scaler.fit_transform(X[['attendance_percentage', 'class_participation', 'total_score']]) # попробовать избавиться от категориальных. То ест не засовывать такие признаки в стандартизацию\n",
    "X_scaled"
   ],
   "metadata": {
    "id": "qgvhXjiPzIDH",
    "ExecuteTime": {
     "end_time": "2025-10-03T06:57:02.777565Z",
     "start_time": "2025-10-03T06:57:02.704667Z"
    }
   },
   "outputs": [
    {
     "data": {
      "text/plain": [
       "array([[ 1.15543228, -1.11693968,  0.88227753],\n",
       "       [-0.49989141, -1.78141884, -0.02487179],\n",
       "       [ 0.16860469, -0.35023296,  1.01834992],\n",
       "       ...,\n",
       "       [ 0.0412721 , -0.09466405,  0.23431373],\n",
       "       [ 0.56121352, -0.35023296,  1.01834992],\n",
       "       [-0.01178315, -0.96359833,  1.01834992]], shape=(1000000, 3))"
      ]
     },
     "execution_count": 51,
     "metadata": {},
     "output_type": "execute_result"
    }
   ],
   "execution_count": 51
  },
  {
   "cell_type": "markdown",
   "source": [
    "### Модель"
   ],
   "metadata": {
    "id": "F1g1S9y3z19w"
   }
  },
  {
   "metadata": {
    "id": "Pb5MFErPz4TA",
    "ExecuteTime": {
     "end_time": "2025-10-03T09:03:46.534043Z",
     "start_time": "2025-10-03T09:03:45.344943Z"
    }
   },
   "cell_type": "code",
   "source": [
    "from sklearn.linear_model import LinearRegression\n",
    "\n",
    "# model.coef_ - коэфициенты фич (каждый коэф относится по индексу к своей фиче)\n",
    "\n",
    "model1 = LinearRegression() # модель задачи 1\n",
    "model1.fit(X, y)\n",
    "y_pred = model1.predict(X)"
   ],
   "outputs": [],
   "execution_count": 52
  },
  {
   "metadata": {
    "ExecuteTime": {
     "end_time": "2025-10-03T09:26:16.813413Z",
     "start_time": "2025-10-03T09:26:16.733410Z"
    }
   },
   "cell_type": "code",
   "source": [
    "from sklearn.metrics import mean_squared_error, mean_absolute_error, r2_score\n",
    "import numpy as np\n",
    "\n",
    "# MAE - средняя абсолютная ошибка, вычисляется по формуле (|y_n-y_p_n|)/n, выдаёт количество баллов, чем меньше, тем лучше\n",
    "mae = mean_absolute_error(y, y_pred)\n",
    "print(f'MAE: {mae}')\n",
    "\n",
    "# MSE - средняя квадратичная ошибка, это как в MAE, но каждое число в числителе возводится в квадрат. В целом более жёсткая оценка, нежели MAE\n",
    "mse = mean_squared_error(y, y_pred)\n",
    "print(f'MSE: {mse}')\n",
    "\n",
    "# R^2 - коэффициент детерминации, оценка того, насколько модель просто лучше среднего, чем значение ближе к 1, тем лучше\n",
    "r2 = r2_score(y, y_pred)\n",
    "print(f'R^2: {r2}')\n",
    "\n",
    "# RMSE - Root Mean Squared Error, корень от MSE, более чувствителен к выбросам, чем ближе к 0, тем лучше\n",
    "rmse = np.sqrt(mse)\n",
    "print(f'RMSE: {rmse}')\n",
    "\n",
    "# MAPE - Mean Absolute Percentage Error, похоже на MAE, но только в процентах и формула другая, чувствителен к 0\n",
    "mape = np.mean(np.abs(y - y_pred) / y)*100\n",
    "print(f'MAPE: {mape}')\n"
   ],
   "outputs": [
    {
     "name": "stdout",
     "output_type": "stream",
     "text": [
      "MAE: 3.1041767948308263\n",
      "MSE: 15.591258161133792\n",
      "R^2: 0.6724670152236689\n",
      "RMSE: 3.9485767260031546\n",
      "MAPE: inf\n"
     ]
    }
   ],
   "execution_count": 54
  },
  {
   "metadata": {
    "ExecuteTime": {
     "end_time": "2025-10-03T09:34:28.941449Z",
     "start_time": "2025-10-03T09:34:28.583877Z"
    }
   },
   "cell_type": "code",
   "source": [
    "import matplotlib.pyplot as plt\n",
    "\n",
    "feature_names = X.columns\n",
    "coefs = model1.coef_\n",
    "\n",
    "plt.figure(figsize=(12, 8))\n",
    "plt.barh(feature_names, coefs)\n",
    "plt.xlabel('Коэф. (вес признака)')\n",
    "plt.title('Коэффициенты линейной регрессии')\n",
    "plt.show()"
   ],
   "outputs": [
    {
     "data": {
      "text/plain": [
       "<Figure size 1200x800 with 1 Axes>"
      ],
      "image/png": "[encoded data removed]"
     },
     "metadata": {},
     "output_type": "display_data"
    }
   ],
   "execution_count": 55
  },
  {
   "cell_type": "markdown",
   "source": [
    "### Разделение на обучающую, тестовую"
   ],
   "metadata": {
    "id": "pnybFq72zu3V"
   }
  },
  {
   "cell_type": "code",
   "source": [
    "from sklearn.model_selection import train_test_split\n",
    "\n",
    "X_train, X_test, y_train, y_test = train_test_split(X_scaled, y, test_size=0.2, random_state=42) # Рездляем данные как 80% - обучение, 20% на тест"
   ],
   "metadata": {
    "id": "EjRhp2c4y9Sg"
   },
   "execution_count": null,
   "outputs": []
  },
  {
   "cell_type": "code",
   "source": [],
   "metadata": {
    "id": "DaRSeDT4zoqc"
   },
   "execution_count": null,
   "outputs": []
  },
  {
   "cell_type": "code",
   "execution_count": null,
   "metadata": {
    "id": "IMxtXnJzuzx9"
   },
   "outputs": [],
   "source": []
  }
 ]
}
