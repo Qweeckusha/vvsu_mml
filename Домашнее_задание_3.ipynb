{
  "nbformat": 4,
  "nbformat_minor": 0,
  "metadata": {
    "colab": {
      "provenance": [],
      "authorship_tag": "ABX9TyNNq+ntTTQxPNBF+u8hZNX3",
      "include_colab_link": true
    },
    "kernelspec": {
      "name": "python3",
      "display_name": "Python 3"
    },
    "language_info": {
      "name": "python"
    }
  },
  "cells": [
    {
      "cell_type": "markdown",
      "metadata": {
        "id": "view-in-github",
        "colab_type": "text"
      },
      "source": [
        "<a href=\"https://colab.research.google.com/github/Letch49/ML-vvsu-2025-2026/blob/master/%D0%94%D0%BE%D0%BC%D0%B0%D1%88%D0%BD%D0%B5%D0%B5_%D0%B7%D0%B0%D0%B4%D0%B0%D0%BD%D0%B8%D0%B5_3.ipynb\" target=\"_parent\"><img src=\"https://colab.research.google.com/assets/colab-badge.svg\" alt=\"Open In Colab\"/></a>"
      ]
    },
    {
      "cell_type": "code",
      "source": [
        "!pip install pandas seaborn scikit-learn"
      ],
      "metadata": {
        "id": "8C_IKyKKNJW7"
      },
      "execution_count": null,
      "outputs": []
    },
    {
      "cell_type": "markdown",
      "source": [
        "# Домашнее задание 3"
      ],
      "metadata": {
        "id": "IQeMYtqeNCCU"
      }
    },
    {
      "cell_type": "markdown",
      "source": [
        "1. Выбрать номинальное значение как целевую переменную\n",
        "2. Провести разведочный анализ **включая** анализ зависимости между номинальными переменными (chi2)\n",
        "3. Выбрать `best_features`\n",
        "4. Сделать нормализацию данных (scaler, onehotencoding)\n",
        "4. Обучить модель логистической регрессии\n",
        "5. Вывести метрики качества, описать полученный результат (также вывести коэфициенты модели)"
      ],
      "metadata": {
        "id": "KAeAozz0NNbQ"
      }
    },
    {
      "cell_type": "code",
      "source": [
        "import pandas as pd"
      ],
      "metadata": {
        "id": "kL0bNiCnOP9R"
      },
      "execution_count": null,
      "outputs": []
    },
    {
      "cell_type": "code",
      "execution_count": null,
      "metadata": {
        "id": "qcCtiipcMcHV"
      },
      "outputs": [],
      "source": [
        "df = pd.read_csv()"
      ]
    },
    {
      "cell_type": "markdown",
      "source": [
        "### EDA"
      ],
      "metadata": {
        "id": "08WzLeXUOXzB"
      }
    },
    {
      "cell_type": "code",
      "source": [
        "..."
      ],
      "metadata": {
        "id": "5ewvL4FqORMQ"
      },
      "execution_count": null,
      "outputs": []
    },
    {
      "cell_type": "code",
      "source": [
        "best_features = []"
      ],
      "metadata": {
        "id": "NewxSaWSORos"
      },
      "execution_count": null,
      "outputs": []
    },
    {
      "cell_type": "markdown",
      "source": [
        "### Model"
      ],
      "metadata": {
        "id": "ACKsg4LiOafU"
      }
    },
    {
      "cell_type": "code",
      "source": [
        "from sklearn.linear_model import LogisticRegression"
      ],
      "metadata": {
        "id": "pCdshNh0OwoT"
      },
      "execution_count": null,
      "outputs": []
    },
    {
      "cell_type": "code",
      "source": [
        "y = df['your_feature']\n",
        "X = df[best_features]"
      ],
      "metadata": {
        "id": "RuGCT4LUOTrk"
      },
      "execution_count": null,
      "outputs": []
    },
    {
      "cell_type": "code",
      "source": [
        "from sklearn.model_selection import train_test_split\n",
        "\n",
        "X_train, X_test, y_train, y_test = train_test_split(\n",
        "    X, y, test_size=0.3, random_state=42, stratify=y\n",
        ") # stratify - разделение данных с учетом распределнеия категориальной переменной"
      ],
      "metadata": {
        "id": "1afGkK9tOrWB"
      },
      "execution_count": null,
      "outputs": []
    },
    {
      "cell_type": "code",
      "source": [
        "from sklearn.metrics import (\n",
        "    accuracy_score,\n",
        "    precision_score,\n",
        "    recall_score,\n",
        "    f1_score,\n",
        "    roc_auc_score,\n",
        "    confusion_matrix\n",
        ")\n"
      ],
      "metadata": {
        "id": "aoA9YB3COfFn"
      },
      "execution_count": null,
      "outputs": []
    },
    {
      "cell_type": "code",
      "source": [
        "..."
      ],
      "metadata": {
        "id": "pBHwURjxO8vc"
      },
      "execution_count": null,
      "outputs": []
    }
  ]
}