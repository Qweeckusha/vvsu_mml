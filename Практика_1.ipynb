{
 "cells": [
  {
   "cell_type": "markdown",
   "metadata": {
    "id": "view-in-github",
    "colab_type": "text"
   },
   "source": [
    "<a href=\"https://colab.research.google.com/github/Letch49/ML-vvsu-2025-2026/blob/master/%D0%9F%D1%80%D0%B0%D0%BA%D1%82%D0%B8%D0%BA%D0%B0_1.ipynb\" target=\"_parent\"><img src=\"https://colab.research.google.com/assets/colab-badge.svg\" alt=\"Open In Colab\"/></a>"
   ]
  },
  {
   "cell_type": "markdown",
   "metadata": {
    "id": "tcYorCKH80fp"
   },
   "source": [
    "# МЛ Практика 1\n",
    "## Обзор занятий: Чем предстоит заниматься\n",
    "Цели сессии:\n",
    "\n",
    "1. Ознакомление с основными понятиями машинного обучения и структурой практических занятий.\n",
    "2. Представление доступных наборов данных для последующих упражнений.\n",
    "3. Формирование списка участников и распределение ролей (при необходимости).\n",
    "4. Практическое освоение методов описательного анализа данных.\n",
    "5. Понимание типов данных и их важности в контексте машинного обучения.\n",
    "План занятий:\n",
    "\n",
    "1. Введение и обзор целей курса.\n",
    "2. Представление наборов данных.\n",
    "3. Формирование списка студентов.\n",
    "4. Совместный разбор выбранного набора данных с обсуждением вопросов.\n",
    "5. Задача 1: Описание набора данных и определение типов данных.\n",
    "6. Пример статистического разбора на основе wine.csv.\n",
    "7. Обсуждение типов переменных и их определения по статистике.\n",
    "8. Вопросы и ответы, обсуждение домашних заданий."
   ]
  },
  {
   "cell_type": "markdown",
   "metadata": {
    "id": "rudyRMMW-U2i"
   },
   "source": [
    "# Наборы данных по вариантам"
   ]
  },
  {
   "cell_type": "markdown",
   "metadata": {
    "id": "idJajr0jf7hH"
   },
   "source": [
    "Примеры наборов данных"
   ]
  },
  {
   "cell_type": "markdown",
   "metadata": {
    "id": "lYr0hH-Pf7hH"
   },
   "source": [
    "1. https://www.kaggle.com/datasets/nabeelqureshitiii/student-performance-dataset\n",
    "2. https://www.kaggle.com/datasets/navjotkaushal/coffee-sales-dataset\n",
    "3. https://www.kaggle.com/datasets/shamimhasan8/education-inequality-data\n",
    "4. https://www.kaggle.com/datasets/adilshamim8/student-depression-dataset\n",
    "5. https://www.kaggle.com/datasets/navjotkaushal/employees-dataset\n",
    "6. https://www.kaggle.com/datasets/abolfazlchanbary81/hearth\n",
    "7. https://www.kaggle.com/datasets/uciml/student-alcohol-consumption\n",
    "8. https://www.kaggle.com/datasets/uom190346a/sleep-health-and-lifestyle-dataset\n",
    "9. https://www.kaggle.com/datasets/lainguyn123/student-performance-factors\n",
    "10. https://www.kaggle.com/datasets/benroshan/factors-affecting-campus-placement\n",
    "11. https://www.kaggle.com/datasets/datascientistanna/customers-dataset\n"
   ]
  },
  {
   "cell_type": "markdown",
   "metadata": {
    "id": "Eho9OVlR_mar"
   },
   "source": [
    "## Описание:\n",
    "В этом разделе вы загрузите набор данных wine.csv, ознакомитесь с его структурой и проведёте первичный обзор."
   ]
  },
  {
   "cell_type": "code",
   "source": [
    "# установка зависимостей\n",
    "!pip install pandas matplotlib seaborn"
   ],
   "metadata": {
    "id": "QEXinYIXo65k"
   },
   "execution_count": null,
   "outputs": []
  },
  {
   "cell_type": "code",
   "metadata": {
    "id": "cAklc2-4_hag",
    "ExecuteTime": {
     "end_time": "2025-09-26T09:39:51.397878Z",
     "start_time": "2025-09-26T09:39:51.272435Z"
    }
   },
   "source": [
    "# импортируем библиотеки\n",
    "import pandas as pd\n",
    "import matplotlib.pyplot as plt\n",
    "import seaborn as sns"
   ],
   "outputs": [],
   "execution_count": 2
  },
  {
   "cell_type": "markdown",
   "metadata": {
    "id": "gkrZd1Sf_j-4"
   },
   "source": [
    "Описание:\n",
    "В этом разделе вы загрузите набор данных wine.csv, ознакомитесь с его структурой и проведёте первичный обзор."
   ]
  },
  {
   "cell_type": "code",
   "metadata": {
    "id": "_AxEco9xAAvN",
    "ExecuteTime": {
     "end_time": "2025-09-26T09:42:08.927858Z",
     "start_time": "2025-09-26T09:42:08.480652Z"
    }
   },
   "source": [
    "PATH_TO_FILE: str = 'student_performance.csv' # Загрузка набора данных\n",
    "df = pd.read_csv(PATH_TO_FILE) # функция превращение данных из CSV в DataFrame"
   ],
   "outputs": [],
   "execution_count": 3
  },
  {
   "metadata": {},
   "cell_type": "code",
   "outputs": [],
   "execution_count": null,
   "source": ""
  },
  {
   "cell_type": "code",
   "source": [
    "# вывод датафрейма\n",
    "df"
   ],
   "metadata": {
    "id": "vDa_xlKclsHe",
    "outputId": "e68787ec-9eaa-4c67-a3d8-b1f796c53333",
    "colab": {
     "base_uri": "https://localhost:8080/"
    },
    "ExecuteTime": {
     "end_time": "2025-09-26T09:44:37.928116Z",
     "start_time": "2025-09-26T09:44:37.915982Z"
    }
   },
   "outputs": [
    {
     "data": {
      "text/plain": [
       "        student_id  weekly_self_study_hours  attendance_percentage  \\\n",
       "0                1                     18.5                   95.6   \n",
       "1                2                     14.0                   80.0   \n",
       "2                3                     19.5                   86.3   \n",
       "3                4                     25.7                   70.2   \n",
       "4                5                     13.4                   81.9   \n",
       "...            ...                      ...                    ...   \n",
       "999995      999996                     18.0                   95.5   \n",
       "999996      999997                     15.7                   82.7   \n",
       "999997      999998                     14.2                   85.1   \n",
       "999998      999999                     25.3                   90.0   \n",
       "999999     1000000                     18.3                   84.6   \n",
       "\n",
       "        class_participation  total_score grade  \n",
       "0                       3.8         97.9     A  \n",
       "1                       2.5         83.9     B  \n",
       "2                       5.3        100.0     A  \n",
       "3                       7.0        100.0     A  \n",
       "4                       6.9         92.0     A  \n",
       "...                     ...          ...   ...  \n",
       "999995                  4.8        100.0     A  \n",
       "999996                  6.7         88.3     A  \n",
       "999997                  5.8         87.9     A  \n",
       "999998                  5.3        100.0     A  \n",
       "999999                  4.1        100.0     A  \n",
       "\n",
       "[1000000 rows x 6 columns]"
      ],
      "text/html": [
       "<div>\n",
       "<style scoped>\n",
       "    .dataframe tbody tr th:only-of-type {\n",
       "        vertical-align: middle;\n",
       "    }\n",
       "\n",
       "    .dataframe tbody tr th {\n",
       "        vertical-align: top;\n",
       "    }\n",
       "\n",
       "    .dataframe thead th {\n",
       "        text-align: right;\n",
       "    }\n",
       "</style>\n",
       "<table border=\"1\" class=\"dataframe\">\n",
       "  <thead>\n",
       "    <tr style=\"text-align: right;\">\n",
       "      <th></th>\n",
       "      <th>student_id</th>\n",
       "      <th>weekly_self_study_hours</th>\n",
       "      <th>attendance_percentage</th>\n",
       "      <th>class_participation</th>\n",
       "      <th>total_score</th>\n",
       "      <th>grade</th>\n",
       "    </tr>\n",
       "  </thead>\n",
       "  <tbody>\n",
       "    <tr>\n",
       "      <th>0</th>\n",
       "      <td>1</td>\n",
       "      <td>18.5</td>\n",
       "      <td>95.6</td>\n",
       "      <td>3.8</td>\n",
       "      <td>97.9</td>\n",
       "      <td>A</td>\n",
       "    </tr>\n",
       "    <tr>\n",
       "      <th>1</th>\n",
       "      <td>2</td>\n",
       "      <td>14.0</td>\n",
       "      <td>80.0</td>\n",
       "      <td>2.5</td>\n",
       "      <td>83.9</td>\n",
       "      <td>B</td>\n",
       "    </tr>\n",
       "    <tr>\n",
       "      <th>2</th>\n",
       "      <td>3</td>\n",
       "      <td>19.5</td>\n",
       "      <td>86.3</td>\n",
       "      <td>5.3</td>\n",
       "      <td>100.0</td>\n",
       "      <td>A</td>\n",
       "    </tr>\n",
       "    <tr>\n",
       "      <th>3</th>\n",
       "      <td>4</td>\n",
       "      <td>25.7</td>\n",
       "      <td>70.2</td>\n",
       "      <td>7.0</td>\n",
       "      <td>100.0</td>\n",
       "      <td>A</td>\n",
       "    </tr>\n",
       "    <tr>\n",
       "      <th>4</th>\n",
       "      <td>5</td>\n",
       "      <td>13.4</td>\n",
       "      <td>81.9</td>\n",
       "      <td>6.9</td>\n",
       "      <td>92.0</td>\n",
       "      <td>A</td>\n",
       "    </tr>\n",
       "    <tr>\n",
       "      <th>...</th>\n",
       "      <td>...</td>\n",
       "      <td>...</td>\n",
       "      <td>...</td>\n",
       "      <td>...</td>\n",
       "      <td>...</td>\n",
       "      <td>...</td>\n",
       "    </tr>\n",
       "    <tr>\n",
       "      <th>999995</th>\n",
       "      <td>999996</td>\n",
       "      <td>18.0</td>\n",
       "      <td>95.5</td>\n",
       "      <td>4.8</td>\n",
       "      <td>100.0</td>\n",
       "      <td>A</td>\n",
       "    </tr>\n",
       "    <tr>\n",
       "      <th>999996</th>\n",
       "      <td>999997</td>\n",
       "      <td>15.7</td>\n",
       "      <td>82.7</td>\n",
       "      <td>6.7</td>\n",
       "      <td>88.3</td>\n",
       "      <td>A</td>\n",
       "    </tr>\n",
       "    <tr>\n",
       "      <th>999997</th>\n",
       "      <td>999998</td>\n",
       "      <td>14.2</td>\n",
       "      <td>85.1</td>\n",
       "      <td>5.8</td>\n",
       "      <td>87.9</td>\n",
       "      <td>A</td>\n",
       "    </tr>\n",
       "    <tr>\n",
       "      <th>999998</th>\n",
       "      <td>999999</td>\n",
       "      <td>25.3</td>\n",
       "      <td>90.0</td>\n",
       "      <td>5.3</td>\n",
       "      <td>100.0</td>\n",
       "      <td>A</td>\n",
       "    </tr>\n",
       "    <tr>\n",
       "      <th>999999</th>\n",
       "      <td>1000000</td>\n",
       "      <td>18.3</td>\n",
       "      <td>84.6</td>\n",
       "      <td>4.1</td>\n",
       "      <td>100.0</td>\n",
       "      <td>A</td>\n",
       "    </tr>\n",
       "  </tbody>\n",
       "</table>\n",
       "<p>1000000 rows × 6 columns</p>\n",
       "</div>"
      ]
     },
     "execution_count": 8,
     "metadata": {},
     "output_type": "execute_result"
    }
   ],
   "execution_count": 8
  },
  {
   "metadata": {
    "ExecuteTime": {
     "end_time": "2025-09-26T09:46:38.235881Z",
     "start_time": "2025-09-26T09:46:38.226076Z"
    }
   },
   "cell_type": "code",
   "source": [
    "# Вывод первых 5 строк\n",
    "df.head()"
   ],
   "outputs": [
    {
     "data": {
      "text/plain": [
       "   student_id  weekly_self_study_hours  attendance_percentage  \\\n",
       "0           1                     18.5                   95.6   \n",
       "1           2                     14.0                   80.0   \n",
       "2           3                     19.5                   86.3   \n",
       "3           4                     25.7                   70.2   \n",
       "4           5                     13.4                   81.9   \n",
       "\n",
       "   class_participation  total_score grade  \n",
       "0                  3.8         97.9     A  \n",
       "1                  2.5         83.9     B  \n",
       "2                  5.3        100.0     A  \n",
       "3                  7.0        100.0     A  \n",
       "4                  6.9         92.0     A  "
      ],
      "text/html": [
       "<div>\n",
       "<style scoped>\n",
       "    .dataframe tbody tr th:only-of-type {\n",
       "        vertical-align: middle;\n",
       "    }\n",
       "\n",
       "    .dataframe tbody tr th {\n",
       "        vertical-align: top;\n",
       "    }\n",
       "\n",
       "    .dataframe thead th {\n",
       "        text-align: right;\n",
       "    }\n",
       "</style>\n",
       "<table border=\"1\" class=\"dataframe\">\n",
       "  <thead>\n",
       "    <tr style=\"text-align: right;\">\n",
       "      <th></th>\n",
       "      <th>student_id</th>\n",
       "      <th>weekly_self_study_hours</th>\n",
       "      <th>attendance_percentage</th>\n",
       "      <th>class_participation</th>\n",
       "      <th>total_score</th>\n",
       "      <th>grade</th>\n",
       "    </tr>\n",
       "  </thead>\n",
       "  <tbody>\n",
       "    <tr>\n",
       "      <th>0</th>\n",
       "      <td>1</td>\n",
       "      <td>18.5</td>\n",
       "      <td>95.6</td>\n",
       "      <td>3.8</td>\n",
       "      <td>97.9</td>\n",
       "      <td>A</td>\n",
       "    </tr>\n",
       "    <tr>\n",
       "      <th>1</th>\n",
       "      <td>2</td>\n",
       "      <td>14.0</td>\n",
       "      <td>80.0</td>\n",
       "      <td>2.5</td>\n",
       "      <td>83.9</td>\n",
       "      <td>B</td>\n",
       "    </tr>\n",
       "    <tr>\n",
       "      <th>2</th>\n",
       "      <td>3</td>\n",
       "      <td>19.5</td>\n",
       "      <td>86.3</td>\n",
       "      <td>5.3</td>\n",
       "      <td>100.0</td>\n",
       "      <td>A</td>\n",
       "    </tr>\n",
       "    <tr>\n",
       "      <th>3</th>\n",
       "      <td>4</td>\n",
       "      <td>25.7</td>\n",
       "      <td>70.2</td>\n",
       "      <td>7.0</td>\n",
       "      <td>100.0</td>\n",
       "      <td>A</td>\n",
       "    </tr>\n",
       "    <tr>\n",
       "      <th>4</th>\n",
       "      <td>5</td>\n",
       "      <td>13.4</td>\n",
       "      <td>81.9</td>\n",
       "      <td>6.9</td>\n",
       "      <td>92.0</td>\n",
       "      <td>A</td>\n",
       "    </tr>\n",
       "  </tbody>\n",
       "</table>\n",
       "</div>"
      ]
     },
     "execution_count": 10,
     "metadata": {},
     "output_type": "execute_result"
    }
   ],
   "execution_count": 10
  },
  {
   "metadata": {
    "colab": {
     "base_uri": "https://localhost:8080/"
    },
    "id": "BY0SAfx6AWXB",
    "outputId": "efc0bb2d-fa21-4eb4-c216-e6ed5aa3fd99",
    "ExecuteTime": {
     "end_time": "2025-09-26T09:46:40.896467Z",
     "start_time": "2025-09-26T09:46:40.886410Z"
    }
   },
   "cell_type": "code",
   "source": [
    "# вывод 5 последних строк\n",
    "df.tail()"
   ],
   "outputs": [
    {
     "data": {
      "text/plain": [
       "        student_id  weekly_self_study_hours  attendance_percentage  \\\n",
       "999995      999996                     18.0                   95.5   \n",
       "999996      999997                     15.7                   82.7   \n",
       "999997      999998                     14.2                   85.1   \n",
       "999998      999999                     25.3                   90.0   \n",
       "999999     1000000                     18.3                   84.6   \n",
       "\n",
       "        class_participation  total_score grade  \n",
       "999995                  4.8        100.0     A  \n",
       "999996                  6.7         88.3     A  \n",
       "999997                  5.8         87.9     A  \n",
       "999998                  5.3        100.0     A  \n",
       "999999                  4.1        100.0     A  "
      ],
      "text/html": [
       "<div>\n",
       "<style scoped>\n",
       "    .dataframe tbody tr th:only-of-type {\n",
       "        vertical-align: middle;\n",
       "    }\n",
       "\n",
       "    .dataframe tbody tr th {\n",
       "        vertical-align: top;\n",
       "    }\n",
       "\n",
       "    .dataframe thead th {\n",
       "        text-align: right;\n",
       "    }\n",
       "</style>\n",
       "<table border=\"1\" class=\"dataframe\">\n",
       "  <thead>\n",
       "    <tr style=\"text-align: right;\">\n",
       "      <th></th>\n",
       "      <th>student_id</th>\n",
       "      <th>weekly_self_study_hours</th>\n",
       "      <th>attendance_percentage</th>\n",
       "      <th>class_participation</th>\n",
       "      <th>total_score</th>\n",
       "      <th>grade</th>\n",
       "    </tr>\n",
       "  </thead>\n",
       "  <tbody>\n",
       "    <tr>\n",
       "      <th>999995</th>\n",
       "      <td>999996</td>\n",
       "      <td>18.0</td>\n",
       "      <td>95.5</td>\n",
       "      <td>4.8</td>\n",
       "      <td>100.0</td>\n",
       "      <td>A</td>\n",
       "    </tr>\n",
       "    <tr>\n",
       "      <th>999996</th>\n",
       "      <td>999997</td>\n",
       "      <td>15.7</td>\n",
       "      <td>82.7</td>\n",
       "      <td>6.7</td>\n",
       "      <td>88.3</td>\n",
       "      <td>A</td>\n",
       "    </tr>\n",
       "    <tr>\n",
       "      <th>999997</th>\n",
       "      <td>999998</td>\n",
       "      <td>14.2</td>\n",
       "      <td>85.1</td>\n",
       "      <td>5.8</td>\n",
       "      <td>87.9</td>\n",
       "      <td>A</td>\n",
       "    </tr>\n",
       "    <tr>\n",
       "      <th>999998</th>\n",
       "      <td>999999</td>\n",
       "      <td>25.3</td>\n",
       "      <td>90.0</td>\n",
       "      <td>5.3</td>\n",
       "      <td>100.0</td>\n",
       "      <td>A</td>\n",
       "    </tr>\n",
       "    <tr>\n",
       "      <th>999999</th>\n",
       "      <td>1000000</td>\n",
       "      <td>18.3</td>\n",
       "      <td>84.6</td>\n",
       "      <td>4.1</td>\n",
       "      <td>100.0</td>\n",
       "      <td>A</td>\n",
       "    </tr>\n",
       "  </tbody>\n",
       "</table>\n",
       "</div>"
      ]
     },
     "execution_count": 11,
     "metadata": {},
     "output_type": "execute_result"
    }
   ],
   "execution_count": 11
  },
  {
   "metadata": {
    "colab": {
     "base_uri": "https://localhost:8080/"
    },
    "id": "FXF-l0y1AXNU",
    "outputId": "968e3332-979a-4ba5-fc47-7c98f46ac357",
    "ExecuteTime": {
     "end_time": "2025-09-26T09:47:11.143902Z",
     "start_time": "2025-09-26T09:47:11.087540Z"
    }
   },
   "cell_type": "code",
   "source": [
    "# Информация о наборе данных\n",
    "df.info() # инфо о датасете название колонки, сколько не пропущенных, дефолтный тип данных"
   ],
   "outputs": [
    {
     "name": "stdout",
     "output_type": "stream",
     "text": [
      "<class 'pandas.core.frame.DataFrame'>\n",
      "RangeIndex: 1000000 entries, 0 to 999999\n",
      "Data columns (total 6 columns):\n",
      " #   Column                   Non-Null Count    Dtype  \n",
      "---  ------                   --------------    -----  \n",
      " 0   student_id               1000000 non-null  int64  \n",
      " 1   weekly_self_study_hours  1000000 non-null  float64\n",
      " 2   attendance_percentage    1000000 non-null  float64\n",
      " 3   class_participation      1000000 non-null  float64\n",
      " 4   total_score              1000000 non-null  float64\n",
      " 5   grade                    1000000 non-null  object \n",
      "dtypes: float64(4), int64(1), object(1)\n",
      "memory usage: 45.8+ MB\n"
     ]
    }
   ],
   "execution_count": 12
  },
  {
   "cell_type": "code",
   "metadata": {
    "colab": {
     "base_uri": "https://localhost:8080/"
    },
    "id": "1eP4wqv1_tqN",
    "outputId": "afcaa899-aeec-461c-b150-c2fa37c097e6",
    "ExecuteTime": {
     "end_time": "2025-09-26T09:56:34.435884Z",
     "start_time": "2025-09-26T09:56:34.218707Z"
    }
   },
   "source": [
    "# Статистический разбор\n",
    "df.describe() # include=all (вывод включая категориальные)"
   ],
   "outputs": [
    {
     "data": {
      "text/plain": [
       "           student_id  weekly_self_study_hours  attendance_percentage  \\\n",
       "count  1000000.000000           1000000.000000         1000000.000000   \n",
       "mean    500000.500000                15.029127              84.711046   \n",
       "std     288675.278932                 6.899431               9.424143   \n",
       "min          1.000000                 0.000000              50.000000   \n",
       "25%     250000.750000                10.300000              78.300000   \n",
       "50%     500000.500000                15.000000              85.000000   \n",
       "75%     750000.250000                19.700000              91.800000   \n",
       "max    1000000.000000                40.000000             100.000000   \n",
       "\n",
       "       class_participation     total_score  \n",
       "count       1000000.000000  1000000.000000  \n",
       "mean              5.985203       84.283845  \n",
       "std               1.956421       15.432969  \n",
       "min               0.000000        9.400000  \n",
       "25%               4.700000       73.900000  \n",
       "50%               6.000000       87.500000  \n",
       "75%               7.300000      100.000000  \n",
       "max              10.000000      100.000000  "
      ],
      "text/html": [
       "<div>\n",
       "<style scoped>\n",
       "    .dataframe tbody tr th:only-of-type {\n",
       "        vertical-align: middle;\n",
       "    }\n",
       "\n",
       "    .dataframe tbody tr th {\n",
       "        vertical-align: top;\n",
       "    }\n",
       "\n",
       "    .dataframe thead th {\n",
       "        text-align: right;\n",
       "    }\n",
       "</style>\n",
       "<table border=\"1\" class=\"dataframe\">\n",
       "  <thead>\n",
       "    <tr style=\"text-align: right;\">\n",
       "      <th></th>\n",
       "      <th>student_id</th>\n",
       "      <th>weekly_self_study_hours</th>\n",
       "      <th>attendance_percentage</th>\n",
       "      <th>class_participation</th>\n",
       "      <th>total_score</th>\n",
       "    </tr>\n",
       "  </thead>\n",
       "  <tbody>\n",
       "    <tr>\n",
       "      <th>count</th>\n",
       "      <td>1000000.000000</td>\n",
       "      <td>1000000.000000</td>\n",
       "      <td>1000000.000000</td>\n",
       "      <td>1000000.000000</td>\n",
       "      <td>1000000.000000</td>\n",
       "    </tr>\n",
       "    <tr>\n",
       "      <th>mean</th>\n",
       "      <td>500000.500000</td>\n",
       "      <td>15.029127</td>\n",
       "      <td>84.711046</td>\n",
       "      <td>5.985203</td>\n",
       "      <td>84.283845</td>\n",
       "    </tr>\n",
       "    <tr>\n",
       "      <th>std</th>\n",
       "      <td>288675.278932</td>\n",
       "      <td>6.899431</td>\n",
       "      <td>9.424143</td>\n",
       "      <td>1.956421</td>\n",
       "      <td>15.432969</td>\n",
       "    </tr>\n",
       "    <tr>\n",
       "      <th>min</th>\n",
       "      <td>1.000000</td>\n",
       "      <td>0.000000</td>\n",
       "      <td>50.000000</td>\n",
       "      <td>0.000000</td>\n",
       "      <td>9.400000</td>\n",
       "    </tr>\n",
       "    <tr>\n",
       "      <th>25%</th>\n",
       "      <td>250000.750000</td>\n",
       "      <td>10.300000</td>\n",
       "      <td>78.300000</td>\n",
       "      <td>4.700000</td>\n",
       "      <td>73.900000</td>\n",
       "    </tr>\n",
       "    <tr>\n",
       "      <th>50%</th>\n",
       "      <td>500000.500000</td>\n",
       "      <td>15.000000</td>\n",
       "      <td>85.000000</td>\n",
       "      <td>6.000000</td>\n",
       "      <td>87.500000</td>\n",
       "    </tr>\n",
       "    <tr>\n",
       "      <th>75%</th>\n",
       "      <td>750000.250000</td>\n",
       "      <td>19.700000</td>\n",
       "      <td>91.800000</td>\n",
       "      <td>7.300000</td>\n",
       "      <td>100.000000</td>\n",
       "    </tr>\n",
       "    <tr>\n",
       "      <th>max</th>\n",
       "      <td>1000000.000000</td>\n",
       "      <td>40.000000</td>\n",
       "      <td>100.000000</td>\n",
       "      <td>10.000000</td>\n",
       "      <td>100.000000</td>\n",
       "    </tr>\n",
       "  </tbody>\n",
       "</table>\n",
       "</div>"
      ]
     },
     "execution_count": 18,
     "metadata": {},
     "output_type": "execute_result"
    }
   ],
   "execution_count": 18
  },
  {
   "cell_type": "code",
   "source": [
    "# преобразование в категориальные\n",
    "# df.columnName = df.columnName.astype('category')\n",
    "# or\n",
    "# df['column Name'] = df['column Name'].astype('category')"
   ],
   "metadata": {
    "id": "YH4Kvd22qoVB"
   },
   "execution_count": null,
   "outputs": []
  },
  {
   "cell_type": "code",
   "metadata": {
    "colab": {
     "base_uri": "https://localhost:8080/"
    },
    "id": "157IXtxKAjbv",
    "outputId": "81a7e50a-b671-4e6c-ecce-9a8275bef551",
    "ExecuteTime": {
     "end_time": "2025-09-26T09:48:20.101604Z",
     "start_time": "2025-09-26T09:48:20.096256Z"
    }
   },
   "source": [
    "# Вывод колонок в наборе данных\n",
    "df.columns"
   ],
   "outputs": [
    {
     "data": {
      "text/plain": [
       "Index(['student_id', 'weekly_self_study_hours', 'attendance_percentage',\n",
       "       'class_participation', 'total_score', 'grade'],\n",
       "      dtype='object')"
      ]
     },
     "execution_count": 14,
     "metadata": {},
     "output_type": "execute_result"
    }
   ],
   "execution_count": 14
  },
  {
   "cell_type": "markdown",
   "metadata": {
    "id": "tm8i1hZ4A5lu"
   },
   "source": [
    "## Определение типов переменных"
   ]
  },
  {
   "cell_type": "code",
   "metadata": {
    "colab": {
     "base_uri": "https://localhost:8080/"
    },
    "id": "OOIfnW3OAbZ-",
    "outputId": "c445db69-34ae-4ace-c38f-358f845d5850",
    "ExecuteTime": {
     "end_time": "2025-09-26T09:49:37.812393Z",
     "start_time": "2025-09-26T09:49:37.807660Z"
    }
   },
   "source": [
    "# Список столбцов и их типов данных\n",
    "print(df.dtypes)"
   ],
   "outputs": [
    {
     "name": "stdout",
     "output_type": "stream",
     "text": [
      "student_id                   int64\n",
      "weekly_self_study_hours    float64\n",
      "attendance_percentage      float64\n",
      "class_participation        float64\n",
      "total_score                float64\n",
      "grade                       object\n",
      "dtype: object\n"
     ]
    }
   ],
   "execution_count": 15
  },
  {
   "cell_type": "markdown",
   "metadata": {
    "id": "D6K8rKQkBBTx"
   },
   "source": [
    "- Числовые переменные обычно имеют тип int64 или float64.\n",
    "- Категориальные переменные могут иметь тип object или int (например метки класса)"
   ]
  },
  {
   "cell_type": "markdown",
   "metadata": {
    "id": "eiFQUgHECLP_"
   },
   "source": [
    "## Статистический разбор данных"
   ]
  },
  {
   "cell_type": "markdown",
   "metadata": {
    "id": "MbYwHh_gCseY"
   },
   "source": [
    "1. **Посчитайте количество уникальных значений для каждой переменной:**"
   ]
  },
  {
   "cell_type": "code",
   "metadata": {
    "colab": {
     "base_uri": "https://localhost:8080/"
    },
    "id": "U7YqAEKUBmhf",
    "outputId": "ac1ae888-a595-4260-958e-4d04da2e04a2",
    "ExecuteTime": {
     "end_time": "2025-09-26T09:51:50.455594Z",
     "start_time": "2025-09-26T09:51:50.313960Z"
    }
   },
   "source": [
    "# Количество уникальных значений\n",
    "for column in df.columns:\n",
    "    print(f'{column}: {df[column].nunique()} уникальных значений')"
   ],
   "outputs": [
    {
     "name": "stdout",
     "output_type": "stream",
     "text": [
      "student_id: 1000000 уникальных значений\n",
      "weekly_self_study_hours: 401 уникальных значений\n",
      "attendance_percentage: 501 уникальных значений\n",
      "class_participation: 101 уникальных значений\n",
      "total_score: 824 уникальных значений\n",
      "grade: 5 уникальных значений\n"
     ]
    }
   ],
   "execution_count": 16
  },
  {
   "cell_type": "markdown",
   "metadata": {
    "id": "qxTEAKDYCvkX"
   },
   "source": [
    "**⏰ задача**\n",
    "\n",
    "Определить типы переменных\n",
    "- номинальные переменные (не имеют порядка и сравнения) = 1 (grade)\n",
    "- порядковые переменные (имеют порядок, но не имеют смысла мат операции) = 1 (student_id)\n",
    "- числовые непрерывные переменные (имеют порядок, есть смысл мат операций) = 4 (weekly_self_study_hours, attendance_percentage, class_participation, total_score)\n",
    "\n",
    "Вывести статистику для числовых и для категориальных переменных раздельно.\n",
    "\n",
    "p.s. если существует несколько гипотез к какому типу относительно одна и та же переменной - объяснить почему"
   ]
  },
  {
   "cell_type": "markdown",
   "metadata": {
    "id": "YmWlNDdjDh7G"
   },
   "source": [
    "## **4. Визуализация распределения переменных**\n",
    "\n",
    "### **Описание:**\n",
    "Создайте визуализации для понимания распределения числовых и категориальных переменных.\n",
    "\n",
    "### **Шаги:**\n"
   ]
  },
  {
   "cell_type": "markdown",
   "metadata": {
    "id": "7U-U04OFDlLr"
   },
   "source": [
    "1. **Гистограмма для числовых переменных:**"
   ]
  },
  {
   "metadata": {
    "ExecuteTime": {
     "end_time": "2025-09-26T10:31:21.990304Z",
     "start_time": "2025-09-26T10:31:12.479405Z"
    }
   },
   "cell_type": "code",
   "source": [
    "sns.histplot(df['weekly_self_study_hours'], kde=True)\n",
    "plt.title('Распределение weekly_self_study_hours')\n",
    "plt.xlabel('weekly_self_study_hours')\n",
    "plt.ylabel('Частота')\n",
    "plt.show()"
   ],
   "outputs": [
    {
     "data": {
      "text/plain": [
       "<Figure size 640x480 with 1 Axes>"
      ],
      "image/png": "[encoded data removed]"
     },
     "metadata": {},
     "output_type": "display_data"
    }
   ],
   "execution_count": 29
  },
  {
   "cell_type": "code",
   "source": [
    "sns.histplot(data=df, x='weekly_self_study_hours', hue='grade', kde=True)\n",
    "plt.title('Распределение weekly_self_study_hours по категориям grade')\n",
    "plt.xlabel('weekly_self_study_hours')\n",
    "plt.ylabel('Частота')\n",
    "plt.show()\n",
    "# ниже код для оптимизации вывода всех числовых переменных\n",
    "# num_cols = df.select_dtypes(include='float').columns # если есть int чиловая переменная либо + ['col1', 'col2'], либо такие колонки преобразовать во flaot\n",
    "# fig, axes = plt.subplots(1, len(num_cols), figsize=(6 * len(num_cols), 4))\n",
    "# \n",
    "# for ax, col in zip(axes, num_cols):\n",
    "#    sns.histplot(df[col], kde=True, ax=ax)\n",
    "#    ax.set_title(f'Распределение {col}')\n",
    "#    ax.set_xlabel(col)\n",
    "#    ax.set_ylabel('Частота')\n",
    "# \n",
    "# plt.tight_layout()\n",
    "# plt.show()"
   ],
   "metadata": {
    "id": "CQAagJEasWbf",
    "ExecuteTime": {
     "end_time": "2025-09-26T10:20:01.783645Z",
     "start_time": "2025-09-26T10:19:50.146112Z"
    }
   },
   "outputs": [
    {
     "data": {
      "text/plain": [
       "<Figure size 640x480 with 1 Axes>"
      ],
      "image/png": "[encoded data removed]"
     },
     "metadata": {},
     "output_type": "display_data"
    }
   ],
   "execution_count": 28
  },
  {
   "cell_type": "markdown",
   "source": [
    "**задача ⏰**\n",
    "\n",
    "Описать вывод графиков.\n",
    "- Является нормальным распределением Гаусса\n",
    "- Концентрация большинства значений приходится в диапазоне от 11 до 21\n",
    "- если есть категориальная переменная, то с помощью параметры hue попробовать предсказать значение категориальный переменной (пример с диоксидом серы и типом вина)\n",
    "\n",
    "p.s. 3-5 самых показательных примеров."
   ],
   "metadata": {
    "id": "DjVTyCA2sdQL"
   }
  },
  {
   "cell_type": "markdown",
   "metadata": {
    "id": "xl44MN9qDnv9"
   },
   "source": [
    "2. **Столбчатая диаграмма для категориальной переменной `Class`:**"
   ]
  },
  {
   "cell_type": "code",
   "source": [
    "sns.countplot(x='grade', data=df)\n",
    "plt.title('Распределение grade')\n",
    "plt.xlabel('grade')\n",
    "plt.ylabel('Количество')\n",
    "plt.show()\n",
    "\n",
    "# ниже код для оптимизации вывода всех категориальных переменных\n",
    "#num_cols = df.select_dtypes(include='category').columns # или object\n",
    "#fig, axes = plt.subplots(1, len(num_cols), figsize=(6 * len(num_cols), 4))\n",
    "\n",
    "#for ax, col in zip(axes, num_cols):\n",
    "#    sns.histplot(df[col], kde=True, ax=ax)\n",
    "#    ax.set_title(f'Распределение {col}')\n",
    "#    ax.set_xlabel(col)\n",
    "#    ax.set_ylabel('Частота')\n",
    "\n",
    "#plt.tight_layout()\n",
    "#plt.show()"
   ],
   "metadata": {
    "id": "ki8iImtfs7Qh",
    "ExecuteTime": {
     "end_time": "2025-09-26T10:33:02.946328Z",
     "start_time": "2025-09-26T10:33:01.305147Z"
    }
   },
   "outputs": [
    {
     "data": {
      "text/plain": [
       "<Figure size 640x480 with 1 Axes>"
      ],
      "image/png": "[encoded data removed]"
     },
     "metadata": {},
     "output_type": "display_data"
    }
   ],
   "execution_count": 30
  },
  {
   "cell_type": "markdown",
   "source": [
    "**задача ⏰**\n",
    "\n",
    "Описать вывод графиков.\n",
    "- в каких значениях концентрируентся переменная? Среди значений А\n",
    "- если есть категориальная переменная, то с помощью параметры hue попробовать предсказать значение категориальный переменной (пример с диоксидом серы и типом вина) - нет"
   ],
   "metadata": {
    "id": "UO2Q-AnOs_CH"
   }
  },
  {
   "cell_type": "markdown",
   "metadata": {
    "id": "A_u0EaAxDpdY"
   },
   "source": [
    "**Боксплот для числовой переменной:**"
   ]
  },
  {
   "metadata": {
    "ExecuteTime": {
     "end_time": "2025-09-26T10:35:36.057705Z",
     "start_time": "2025-09-26T10:35:34.542967Z"
    }
   },
   "cell_type": "code",
   "source": [
    "sns.boxplot(data=df, x='weekly_self_study_hours')\n",
    "plt.title('Boxplot chlorides')\n",
    "plt.xlabel('chlorides')\n",
    "plt.show()"
   ],
   "outputs": [
    {
     "data": {
      "text/plain": [
       "<Figure size 640x480 with 1 Axes>"
      ],
      "image/png": "[encoded data removed]"
     },
     "metadata": {},
     "output_type": "display_data"
    }
   ],
   "execution_count": 36
  },
  {
   "cell_type": "code",
   "source": [
    "sns.boxplot(data=df, x='weekly_self_study_hours', hue='grade')\n",
    "plt.title('Boxplot weekly_self_study_hours')\n",
    "plt.xlabel('weekly_self_study_hours')\n",
    "plt.show()\n",
    "\n",
    "#num_cols = df.select_dtypes(include='float').columns # если есть int чиловая переменная либо + ['col1', 'col2'], либо такие колонки преобразовать во flaot\n",
    "#fig, axes = plt.subplots(1, len(num_cols), figsize=(6 * len(num_cols), 4))\n",
    "\n",
    "#for ax, col in zip(axes, num_cols):\n",
    "#    sns.boxplot(df[col], ax=ax)\n",
    "#    ax.set_title(f'Распределение {col}')\n",
    "#    ax.set_xlabel(col)\n",
    "#    ax.set_ylabel('Частота')\n",
    "\n",
    "#plt.tight_layout()\n",
    "#plt.show()"
   ],
   "metadata": {
    "id": "0lgdjVP2tNw1",
    "ExecuteTime": {
     "end_time": "2025-09-26T10:41:13.544348Z",
     "start_time": "2025-09-26T10:41:10.969492Z"
    }
   },
   "outputs": [
    {
     "data": {
      "text/plain": [
       "<Figure size 640x480 with 1 Axes>"
      ],
      "image/png": "[encoded data removed]"
     },
     "metadata": {},
     "output_type": "display_data"
    }
   ],
   "execution_count": 37
  },
  {
   "cell_type": "markdown",
   "source": [
    "**задача ⏰**\n",
    "\n",
    "Описать вывод графиков.\n",
    "- Есть ли выбросы? Выбросы на первом боксплоте наблюдаются справа, после максимальных значений.\n",
    "- если есть категориальная переменная, то с помощью параметры hue попробовать предсказать значение категориальный переменной (пример с диоксидом серы и типом вина). Определить различия по медиане"
   ],
   "metadata": {
    "id": "l0HrP4IntQxi"
   }
  },
  {
   "cell_type": "code",
   "source": [
    "# Корреляционная матрица\n",
    "correlation_matrix = df.corr()\n",
    "\n",
    "# Визуализация тепловой карты\n",
    "sns.heatmap(correlation_matrix, annot=True, cmap='coolwarm')\n",
    "plt.title('Корреляционная матрица')\n",
    "plt.show()"
   ],
   "metadata": {
    "id": "IRvG7wPiuY9e"
   },
   "execution_count": null,
   "outputs": []
  },
  {
   "cell_type": "markdown",
   "source": [
    "**если ValueError**"
   ],
   "metadata": {
    "id": "EgFRs5TeuZ7u"
   }
  },
  {
   "cell_type": "code",
   "source": [
    "# Если будут ошибки ValueError из-за could not conver string to float\n",
    "df = df.drop('colName', axis=1)\n",
    "# найти колонку, из-за которой ничего не получается,\n",
    "# можно найти по object из df.info()"
   ],
   "metadata": {
    "id": "cu9VEvN0ucC5"
   },
   "execution_count": null,
   "outputs": []
  },
  {
   "cell_type": "markdown",
   "source": [
    "**задача ⏰**\n",
    "\n",
    "Интерпертировать полученный результат:\n",
    "- Какие переменные не коррелируют?\n",
    "- Какие переменные имеют сильную положительную корреляцию?\n",
    "- Какие переменные имеют сильную слабую корреляцию?\n",
    "\n",
    "p.s. сильная корреляция считаем abs(corr_coef) >= 0.7"
   ],
   "metadata": {
    "id": "h6i4G7Xyuklx"
   }
  }
 ],
 "metadata": {
  "colab": {
   "collapsed_sections": [
    "tm8i1hZ4A5lu",
    "eiFQUgHECLP_",
    "YmWlNDdjDh7G",
    "B1bbdRrWD7iZ"
   ],
   "provenance": [],
   "include_colab_link": true
  },
  "kernelspec": {
   "display_name": "Python 3 (ipykernel)",
   "name": "python3",
   "language": "python"
  },
  "language_info": {
   "name": "python"
  }
 },
 "nbformat": 4,
 "nbformat_minor": 0
}
